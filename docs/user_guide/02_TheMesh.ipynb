{
 "cells": [
  {
   "cell_type": "markdown",
   "metadata": {},
   "source": [
    "# The Finite Element Mesh\n",
    "\n",
    "\n",
    "The finite element mesh is a fundamental construct for Underworld models. This notebook will go through different examples of what can be done with Underworld's mesh object. \n",
    "\n",
    "#### Overview:\n",
    "\n",
    "1. Creating, visualising and accessing a mesh object.\n",
    "2. Modifing a mesh.\n",
    "3. Loading and saving meshes.\n",
    "\n",
    "**Keywords:** meshes, mesh geometry, loading data\n",
    "\n",
    "**References**\n",
    "\n",
    "1. Moresi, L., Dufour, F., Muhlhaus, H.B., 2002. Mantle convection modeling with viscoelastic/brittle lithosphere: Numerical methodology and plate tectonic modeling. Pure Appl. Geophys. 159 (10), 2335–2356.\n",
    "2. Moresi, L., Dufour, F., Muhlhaus, H.B., 2003. A Lagrangian integration point finite element method for large deformation modeling of viscoelastic geomaterials. J. Comput. Phys. 184, 476–497.\n",
    "3. Moresi, L., Quenette, S., Lemiale, V., Meriaux, C., Appelbe, B., Muhlhaus, H.-B., 2007. Computational approaches to studying non-linear dynamics of the crust and mantle. Physics of the Earth and Planetary Interiors 163, 69–82.\n"
   ]
  },
  {
   "cell_type": "code",
   "execution_count": 1,
   "metadata": {},
   "outputs": [],
   "source": [
    "import underworld as uw\n",
    "import glucifer"
   ]
  },
  {
   "cell_type": "markdown",
   "metadata": {},
   "source": [
    "## Creating, visualising and accessing a mesh object"
   ]
  },
  {
   "cell_type": "code",
   "execution_count": 2,
   "metadata": {},
   "outputs": [
    {
     "data": {
      "text/html": [
       "<img src='data:image/png;base64,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'>"
      ],
      "text/plain": [
       "<IPython.core.display.HTML object>"
      ]
     },
     "metadata": {},
     "output_type": "display_data"
    }
   ],
   "source": [
    "# create an 8x8 rectalinear element mesh \n",
    "# range x:[0.0,2.0], y:[0.0,1.0]\n",
    "mesh = uw.mesh.FeMesh_Cartesian( elementType = (\"Q1\"), \n",
    "                                 elementRes  = (8, 8), \n",
    "                                 minCoord    = (0.0, 0.0), \n",
    "                                 maxCoord    = (2.0, 1.0) )\n",
    "\n",
    "# visualising the result\n",
    "figMesh = glucifer.Figure(figsize=(1200,600))\n",
    "figMesh.append( glucifer.objects.Mesh(mesh, nodeNumbers=True) )\n",
    "figMesh.show()"
   ]
  },
  {
   "cell_type": "code",
   "execution_count": 3,
   "metadata": {},
   "outputs": [
    {
     "name": "stdout",
     "output_type": "stream",
     "text": [
      "Coordinate of mesh point 1 is [ 0.25  0.  ]\n"
     ]
    }
   ],
   "source": [
    "# The meshes' node geometry data can be directly read via numpy arrays `mesh.data`\n",
    "node_id = 1\n",
    "print \"Coordinate of mesh point {} is {}\". format(node_id, mesh.data[node_id])"
   ]
  },
  {
   "cell_type": "code",
   "execution_count": 4,
   "metadata": {},
   "outputs": [
    {
     "name": "stdout",
     "output_type": "stream",
     "text": [
      "['MaxI_VertexSet', 'MinI_VertexSet', 'AllWalls_VertexSet', 'MinJ_VertexSet', 'MaxJ_VertexSet', 'Empty']\n",
      "FeMesh_IndexSet([ 0,  9, 18, 27, 36, 45, 54, 63, 72])\n"
     ]
    }
   ],
   "source": [
    "# Sets of node indexes that define boundaries are contained under the `mesh.specialSets` dictionary\n",
    "print mesh.specialSets.keys()\n",
    "# The left vertical wall is defined 'MinI_VertexSet' \n",
    "print mesh.specialSets['MinI_VertexSet']\n",
    "\n",
    "# The right vertical wall is defined 'MaxI_VertexSet\n",
    "# The upper horizontal wall is defined 'MaxJ_VertexSet\n",
    "# The lower horizontal wall is defined 'MinJ_VertexSet"
   ]
  },
  {
   "cell_type": "markdown",
   "metadata": {},
   "source": [
    "#### Element types\n",
    "The `elementType` input argument for a mesh defines the element shape functions. Shape functions define the polynomial order of finite element mesh.  \n",
    "\n",
    "Underworld currently supports these element types:\n",
    "  * Q2: quadratic elements\n",
    "  * Q1: linear elements\n",
    "  * dP1c: discontinuous linear elements.\n",
    "  * dQ0: discontinuous constant elements. (i.e. 1 node in the centre of the element)\n",
    " \n",
    "#### Mixed elements\n",
    "The mesh object allow for up to 2 element types to be defined for a single mesh. This is initialised by passing a string to the `elementType` argument of the following form:\n",
    "  * Q2/dpc1\n",
    "  * Q2/Q1\n",
    "  * Q1/dQ0\n"
   ]
  },
  {
   "cell_type": "markdown",
   "metadata": {},
   "source": [
    "For a definition of finite element naming conventions used in Underworld see [here](https://femtable.org/femtable.pdf)\n",
    "\n",
    "\n",
    "Let us now create a 2D mesh object with mixed elements (for 3D simply add an extra term in the tuples for the ``elementRes``, ``minCoord`` and ``maxCoord``)."
   ]
  },
  {
   "cell_type": "code",
   "execution_count": 5,
   "metadata": {},
   "outputs": [
    {
     "data": {
      "text/html": [
       "<img src='data:image/png;base64,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'>"
      ],
      "text/plain": [
       "<IPython.core.display.HTML object>"
      ]
     },
     "metadata": {},
     "output_type": "display_data"
    }
   ],
   "source": [
    "mesh2 = uw.mesh.FeMesh_Cartesian( elementType = (\"Q2/dpc1\"), \n",
    "                                 elementRes  = (4, 4), \n",
    "                                 minCoord    = (0., 0.), \n",
    "                                 maxCoord    = (2., 1.))\n",
    "\n",
    "figMesh2 = glucifer.Figure(figsize=(1200,600))\n",
    "figMesh2.append( glucifer.objects.Mesh(mesh2.subMesh, nodeNumbers=True) )\n",
    "figMesh2.append( glucifer.objects.Mesh(mesh2, nodeNumbers=True, segmentsPerEdge=4) )\n",
    "figMesh2.show()"
   ]
  },
  {
   "cell_type": "code",
   "execution_count": 6,
   "metadata": {
    "scrolled": true
   },
   "outputs": [
    {
     "name": "stdout",
     "output_type": "stream",
     "text": [
      " Number of mesh points (Total) = 81\n",
      "      Number of submesh points = 48\n"
     ]
    }
   ],
   "source": [
    "# The mesh data for the 2nd element type can be accessed via the `mesh.subMesh`. \n",
    "print(' Number of mesh points (Total) = {0:2d}'.format(len(mesh2.data)))\n",
    "print('      Number of submesh points = {0:2d}'.format(len(mesh2.subMesh.data)))"
   ]
  },
  {
   "cell_type": "markdown",
   "metadata": {},
   "source": [
    "## Deforming the mesh\n",
    "\n",
    "By default the mesh data is read only. The following cell will unlock the mesh and displace a single node of the mesh in the positive x direction."
   ]
  },
  {
   "cell_type": "code",
   "execution_count": 7,
   "metadata": {},
   "outputs": [
    {
     "data": {
      "text/html": [
       "<img src='data:image/png;base64,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'>"
      ],
      "text/plain": [
       "<IPython.core.display.HTML object>"
      ]
     },
     "metadata": {},
     "output_type": "display_data"
    }
   ],
   "source": [
    "with mesh.deform_mesh():\n",
    "    mesh.data[40][0] += 0.025\n",
    "figMesh.show()"
   ]
  },
  {
   "cell_type": "markdown",
   "metadata": {},
   "source": [
    "Deforming meshes allows us to increase resolution where it is needed most. For example at the top of the simulation domain by redefining the vertical mesh coordinate to be $z := \\sqrt{z}$ "
   ]
  },
  {
   "cell_type": "code",
   "execution_count": 8,
   "metadata": {},
   "outputs": [
    {
     "data": {
      "text/html": [
       "<img src='data:image/png;base64,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'>"
      ],
      "text/plain": [
       "<IPython.core.display.HTML object>"
      ]
     },
     "metadata": {},
     "output_type": "display_data"
    }
   ],
   "source": [
    "mesh.reset()  # restore the mesh to the original configuration specified by elementType\n",
    "with mesh.deform_mesh():\n",
    "    for index, coord in enumerate(mesh.data):\n",
    "        mesh.data[index][1] = mesh.data[index][1]**0.5\n",
    "figMesh.show()"
   ]
  },
  {
   "cell_type": "markdown",
   "metadata": {},
   "source": [
    "## Saving and loading meshes\n",
    "\n",
    "\n",
    "Mesh coordinate data can be saved in hdf5 format using the ``save`` method attached to the ``mesh`` class. The following line will save the mesh to a file."
   ]
  },
  {
   "cell_type": "code",
   "execution_count": 9,
   "metadata": {},
   "outputs": [
    {
     "data": {
      "text/plain": [
       "<underworld.utils._utils.SavedFileData at 0x110ec0310>"
      ]
     },
     "execution_count": 9,
     "metadata": {},
     "output_type": "execute_result"
    }
   ],
   "source": [
    "mesh.save('deformedMesh.h5')"
   ]
  },
  {
   "cell_type": "markdown",
   "metadata": {},
   "source": [
    "To check that this has worked we will re-create the mesh, plot and then reload the saved mesh."
   ]
  },
  {
   "cell_type": "code",
   "execution_count": 10,
   "metadata": {},
   "outputs": [
    {
     "data": {
      "text/html": [
       "<img src='data:image/png;base64,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'>"
      ],
      "text/plain": [
       "<IPython.core.display.HTML object>"
      ]
     },
     "metadata": {},
     "output_type": "display_data"
    }
   ],
   "source": [
    "mesh = uw.mesh.FeMesh_Cartesian( elementType = (\"Q1\"), \n",
    "                                 elementRes  = (8, 8), \n",
    "                                 minCoord    = (0.0, 0.0), \n",
    "                                 maxCoord    = (2.0, 1.0))\n",
    "figMesh = glucifer.Figure(figsize=(1200,600))\n",
    "figMesh.append( glucifer.objects.Mesh(mesh, nodeNumbers=True) )\n",
    "figMesh.show()"
   ]
  },
  {
   "cell_type": "markdown",
   "metadata": {},
   "source": [
    "Now load the mesh and display:"
   ]
  },
  {
   "cell_type": "code",
   "execution_count": 11,
   "metadata": {},
   "outputs": [
    {
     "data": {
      "text/html": [
       "<img src='data:image/png;base64,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'>"
      ],
      "text/plain": [
       "<IPython.core.display.HTML object>"
      ]
     },
     "metadata": {},
     "output_type": "display_data"
    }
   ],
   "source": [
    "mesh.load('deformedMesh.h5')\n",
    "figMesh.show()"
   ]
  }
 ],
 "metadata": {
  "celltoolbar": "Raw Cell Format",
  "kernelspec": {
   "display_name": "Python 2",
   "language": "python",
   "name": "python2"
  },
  "language_info": {
   "codemirror_mode": {
    "name": "ipython",
    "version": 2
   },
   "file_extension": ".py",
   "mimetype": "text/x-python",
   "name": "python",
   "nbconvert_exporter": "python",
   "pygments_lexer": "ipython2",
   "version": "2.7.10"
  }
 },
 "nbformat": 4,
 "nbformat_minor": 1
}

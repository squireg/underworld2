{
 "cells": [
  {
   "cell_type": "markdown",
   "metadata": {},
   "source": [
    "# Systems and Solvers\n",
    "\n",
    "\n",
    "Numerous dynamic systems are implemented in Underworld. They may be found within the `systems` submodule.\n",
    "\n",
    "Classes are documented with examples using Python docstrings and doctests. This information is available directly in the Python interpreter (using the `help()` builtin function). However, the rendered version of docstrings is generally more useful, and is available at the Underworld Read the Docs page:\n",
    "\n",
    "http://underworld2.readthedocs.io/en/latest/underworld.systems.html#underworld.systems.Stokes"
   ]
  }
 ],
 "metadata": {
  "kernelspec": {
   "display_name": "Python 2",
   "language": "python",
   "name": "python2"
  },
  "language_info": {
   "codemirror_mode": {
    "name": "ipython",
    "version": 2
   },
   "file_extension": ".py",
   "mimetype": "text/x-python",
   "name": "python",
   "nbconvert_exporter": "python",
   "pygments_lexer": "ipython2",
   "version": "2.7.10"
  }
 },
 "nbformat": 4,
 "nbformat_minor": 1
}

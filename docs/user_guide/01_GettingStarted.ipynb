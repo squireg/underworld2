{
 "cells": [
  {
   "cell_type": "markdown",
   "metadata": {},
   "source": [
    "Getting started\n",
    "======\n",
    "\n",
    "**Keywords:** import, IPython notebooks\n",
    "\n",
    "Welcome to using Underworld! \n",
    "-----\n",
    "\n",
    "[_Underworld 2_](http://www.underworldcode.org) provides a Python user interface to the Underworld code providing a programmable and flexible front end to the code running in a parallel HPC environment. This gives signficant advantages to the user, allowing them to leverage third party Python libraries for model configuration, analysis at runtime, coupling of multiple physics, etc. The Python interface was partly funded by the NeCTAR [eResearch_tools](http://www.nectar.org.au/eresearch-tools) program.\n",
    "\n",
    "The Python interface allows users to make use of Jupyter notebooks. This allows for an interactive approach to the development and analysis of models.\n",
    "\n",
    "Documentation\n",
    "----\n",
    "Underworld documentation is broken down into: \n",
    "\n",
    "1. **examples**: These notebooks go through the entire workflow for geophysics type problems.\n",
    "2. **user guide**: A more focused look at particular aspects of Underworld (e.g. swarm particles).\n",
    "3. **publications**: Notebooks which replicate models and results from the literature. \n",
    "4. **docstrings**: The Underworld API includes Python docstring type documentation.\n",
    "\n",
    "Underworld requires basic knowledge of Python; constructs such as lists, tuples, modules, for-loops, printing and simple functions. This guide covers the basics of how to load modules for Underworld and how to use Jupyter notebooks. A short overview of a typical Underworld model with plots is given at the end of this guide.\n",
    "\n",
    "The purpose of the user guide is to give users a more detailed understanding of the various aspects of modelling with Underworld. For those interested in getting moving as quickly as possible, the examples are perhaps a better place to start.\n",
    "\n",
    "Underworld objects utilise Python docstrings to provide documentation inline. You may access this documentation directly by using the native Python ``help()`` function. Quick help information in the form of a pop-up window can be obtained by using a question mark after the object within IPython/Jupyter notebooks; e.g. ``uw?``.\n",
    "\n",
    "\n",
    "Notebooks\n",
    "----\n",
    "\n",
    "If you are new to the Jupyter Notebook, you may wish to familiarise yourself with the notebook environment first. There are many useful examples available online. Also, when using the notebook interactively, the **Help** menu bar option provides handy references. \n"
   ]
  },
  {
   "cell_type": "markdown",
   "metadata": {},
   "source": [
    "Installation\n",
    "----\n",
    "\n",
    "This guide assumes that you have already installed Underworld. Details on how to install Underworld may be found at the project github page:\n",
    "https://github.com/underworldcode/underworld2"
   ]
  },
  {
   "cell_type": "markdown",
   "metadata": {},
   "source": [
    "How to get help\n",
    "----\n",
    "\n",
    "If you encounter issues or suspect a bug, please create a ticket using the [issue tracker on github](https://github.com/underworldcode/underworld2/issues)."
   ]
  },
  {
   "cell_type": "markdown",
   "metadata": {},
   "source": [
    "Importing\n",
    "----\n",
    "\n",
    "Run the following cell (either the ``run button`` on the menu above or press ``shift+enter``) to load the Underworld module:"
   ]
  },
  {
   "cell_type": "code",
   "execution_count": 1,
   "metadata": {},
   "outputs": [],
   "source": [
    "import underworld as uw"
   ]
  },
  {
   "cell_type": "markdown",
   "metadata": {
    "collapsed": true
   },
   "source": [
    "A quick demo\n",
    "-----\n",
    "\n",
    "Let's do a quick run through of setting up some basic Underworld objects."
   ]
  },
  {
   "cell_type": "code",
   "execution_count": 2,
   "metadata": {
    "collapsed": true
   },
   "outputs": [],
   "source": [
    "# First, create a mesh:\n",
    "mesh = uw.mesh.FeMesh_Cartesian( elementType = (\"Q1\"), \n",
    "                                 elementRes  = (8, 8), \n",
    "                                 minCoord    = (0., 0.), \n",
    "                                 maxCoord    = (2., 1.))"
   ]
  },
  {
   "cell_type": "code",
   "execution_count": 3,
   "metadata": {
    "collapsed": true
   },
   "outputs": [],
   "source": [
    "# Next we create a mesh variable:\n",
    "temperatureField = mesh.add_variable( nodeDofCount=1 )"
   ]
  },
  {
   "cell_type": "code",
   "execution_count": 4,
   "metadata": {
    "collapsed": true
   },
   "outputs": [],
   "source": [
    "# Let's initialise the variable with some data:\n",
    "for index, coord in enumerate(mesh.data):\n",
    "    temperatureField.data[index] = coord[1]  # set the temperature to be the vertical (y) coordinate"
   ]
  },
  {
   "cell_type": "code",
   "execution_count": 5,
   "metadata": {},
   "outputs": [
    {
     "data": {
      "text/html": [
       "<img src='data:image/png;base64,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'>"
      ],
      "text/plain": [
       "<IPython.core.display.HTML object>"
      ]
     },
     "metadata": {},
     "output_type": "display_data"
    }
   ],
   "source": [
    "# Finally we will plot the temperature field using ``gLucifer`` after importing the gLucifer module.\n",
    "import glucifer\n",
    "fig = glucifer.Figure(figsize=(800,400))\n",
    "fig.append( glucifer.objects.Surface(mesh, temperatureField, colours=\"blue white red\") )\n",
    "fig.append( glucifer.objects.Mesh(mesh) )\n",
    "fig.show()"
   ]
  },
  {
   "cell_type": "markdown",
   "metadata": {},
   "source": [
    "Typically we might then setup boundary conditions, particle swarms, rheology and systems to be solved.\n",
    "\n",
    "All of these topics are discussed in the following sections of the user guide."
   ]
  }
 ],
 "metadata": {
  "kernelspec": {
   "display_name": "Python 2",
   "language": "python",
   "name": "python2"
  },
  "language_info": {
   "codemirror_mode": {
    "name": "ipython",
    "version": 2
   },
   "file_extension": ".py",
   "mimetype": "text/x-python",
   "name": "python",
   "nbconvert_exporter": "python",
   "pygments_lexer": "ipython2",
   "version": "2.7.10"
  }
 },
 "nbformat": 4,
 "nbformat_minor": 1
}

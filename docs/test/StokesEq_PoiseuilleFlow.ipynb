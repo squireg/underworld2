{
 "cells": [
  {
   "cell_type": "markdown",
   "metadata": {
    "collapsed": true
   },
   "source": [
    "### Example of a 1D Channel driven flow\n",
    "\n",
    "Model Setup\n",
    "-----------\n",
    "\n",
    "2D, Stokes Equation with noslip BC at top and bottom boundary and a lateral pressure gradient driving the flow, a.k.a. Poiseuille Flow.\n",
    "\n",
    "\\\\[\n",
    "\\frac{\\partial \\tau}{\\partial y} = \\mu \\frac{\\partial^{2} \\mathbf{u}}{\\partial{y}^{2}} = \\frac{\\partial p}{\\partial x}\n",
    "\\\\]\n",
    "\n",
    "\\\\[\n",
    "\\nabla \\cdot \\mathbf{u} = 0\n",
    "\\\\]\n",
    "\n",
    "with $ x_{a} \\leqslant x \\leqslant x_{b} $ and $ 0.0 \\leqslant y \\leqslant h $\n",
    "\n",
    "Boundary conditions:\n",
    "\n",
    " * $\\mathbf{u}(x,y=h) = \\mathbf{u}(x,y=0) = \\left[0,0 \\right]$\n",
    " * $P(x_a) = P_a$\n",
    " * $P(x_b) = P_b $\n",
    "\n",
    "------\n",
    "\n",
    "A 1D solution in $y$-axis, described by\n",
    "\n",
    "$ \\mathbf{u}(x,y) =  \\left[ \\frac{1}{2 \\mu} \\frac{\\partial p }{\\partial x} ( y^{2} - h y ), 0.0 \\right]$"
   ]
  },
  {
   "cell_type": "markdown",
   "metadata": {},
   "source": [
    "We implement the above boundary conditions using:\n",
    " * a `DirichletCondition` object for $\\mathbf{u}(x,y=1) = \\mathbf{u}(x,y=0) = \\left[0,0 \\right]$\n",
    " * a `NeumannCondition` object for $P(x_a) = P_a$ & $P(x_b) = P_b $\n",
    "\n",
    "The `NeumannCondition` object, used with the `Stokes` object, defines a stress along a boundary such that:\n",
    "  * $ \\sigma_{ij} n_{j} = \\phi_{i} $ on $ \\Gamma_{\\phi} $\n",
    "\n",
    "  where  \n",
    "    * $n$ is the surface normal pointing outwards,\n",
    "    * $ \\sigma_{ij} = \\tau_{ij} - \\delta_{ij} P$ is the prescribed stress tensor, which is multiplied my $ n $ at $ \\Gamma_{\\phi} $ to produce $\\phi_{i}$, a surface traction on the given boundary."
   ]
  },
  {
   "cell_type": "code",
   "execution_count": 1,
   "metadata": {},
   "outputs": [],
   "source": [
    "import underworld as uw\n",
    "from underworld import function as fn\n",
    "import glucifer\n",
    "import math\n",
    "import numpy as np\n",
    "\n",
    "# for machines without matplotlib #\n",
    "make_graphs = True\n",
    "try:\n",
    "    import matplotlib\n",
    "except ImportError:\n",
    "    make_graphs=False"
   ]
  },
  {
   "cell_type": "markdown",
   "metadata": {},
   "source": [
    "Setup parameters\n",
    "-----"
   ]
  },
  {
   "cell_type": "code",
   "execution_count": 2,
   "metadata": {},
   "outputs": [],
   "source": [
    "# domain height\n",
    "h = 1.0\n",
    "# Set a constant viscosity.\n",
    "viscosity = 1.4\n",
    "\n",
    "# position of walls and associated pressure on walls\n",
    "xa = -1.0\n",
    "pa = 4.0\n",
    "\n",
    "xb = 1.0\n",
    "pb = 3.0"
   ]
  },
  {
   "cell_type": "code",
   "execution_count": 3,
   "metadata": {},
   "outputs": [],
   "source": [
    "mesh = uw.mesh.FeMesh_Cartesian( elementType = (\"Q1/dQ0\"), \n",
    "                                 elementRes  = (128, 128), \n",
    "                                 minCoord    = (xa, 0.), \n",
    "                                 maxCoord    = (xb, h))\n",
    "\n",
    "velocityField   = mesh.add_variable(         nodeDofCount=2 )\n",
    "pressureField   = mesh.subMesh.add_variable( nodeDofCount=1 )\n",
    "appliedTractionField = mesh.add_variable(    nodeDofCount=2 )\n",
    "\n",
    "# initialise velocity, pressure field\n",
    "velocityField.data[:] = [0.,0.]\n",
    "pressureField.data[:] = 0."
   ]
  },
  {
   "cell_type": "code",
   "execution_count": 4,
   "metadata": {},
   "outputs": [],
   "source": [
    "jWalls = mesh.specialSets[\"MinJ_VertexSet\"] + mesh.specialSets[\"MaxJ_VertexSet\"]\n",
    "iWalls = mesh.specialSets[\"MinI_VertexSet\"] + mesh.specialSets[\"MaxI_VertexSet\"]\n",
    "allWalls = iWalls + jWalls"
   ]
  },
  {
   "cell_type": "code",
   "execution_count": 5,
   "metadata": {},
   "outputs": [
    {
     "name": "stdout",
     "output_type": "stream",
     "text": [
      "-0.5\n"
     ]
    }
   ],
   "source": [
    "vBC = uw.conditions.DirichletCondition( variable = velocityField, \n",
    "                                        indexSetsPerDof = (jWalls, allWalls) )\n",
    "\n",
    "dp_dx = (pb-pa)/(xb-xa)\n",
    "\n",
    "# This stress is multiplied by the wall normal to produce a traction force.\n",
    "#############\n",
    "# Remember total stress = deviatoric - isotropic. \n",
    "# Thus +pressure is a negative stress.\n",
    "#############\n",
    "\n",
    "# The left wall normal unit vector is (-1,0)\n",
    "# The right wall normal unit vector is (1,0)\n",
    "\n",
    "# (-press) * normal_j = surface_force\n",
    "appliedTractionField.data[mesh.specialSets[\"MinI_VertexSet\"].data] = (pa,0.0)\n",
    "\n",
    "appliedTractionField.data[mesh.specialSets[\"MaxI_VertexSet\"].data] = (-1*pb,0.0)\n",
    "\n",
    "nbc = uw.conditions.NeumannCondition( fn_flux=appliedTractionField, \n",
    "                                      variable=velocityField,\n",
    "                                      indexSetsPerDof=(iWalls, None) )\n",
    "print dp_dx"
   ]
  },
  {
   "cell_type": "code",
   "execution_count": 6,
   "metadata": {},
   "outputs": [],
   "source": [
    "stokes = uw.systems.Stokes( velocityField = velocityField, \n",
    "                            pressureField = pressureField,\n",
    "                            conditions    = [vBC, nbc],\n",
    "                            fn_viscosity   = viscosity, \n",
    "                            fn_bodyforce   = 0.0 )\n",
    "\n",
    "solver = uw.systems.Solver( stokes )\n",
    "solver.solve()"
   ]
  },
  {
   "cell_type": "code",
   "execution_count": 7,
   "metadata": {},
   "outputs": [
    {
     "data": {
      "text/html": [
       "<img src='data:image/png;base64,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'>"
      ],
      "text/plain": [
       "<IPython.core.display.HTML object>"
      ]
     },
     "metadata": {},
     "output_type": "display_data"
    }
   ],
   "source": [
    "fig = glucifer.Figure()\n",
    "velmagfield = uw.function.math.sqrt( uw.function.math.dot( velocityField, velocityField ) )\n",
    "fig.append( glucifer.objects.VectorArrows(mesh, velocityField, arrowHead=0.2, scaling=0.9) )\n",
    "# fig.append( glucifer.objects.Mesh(mesh) )\n",
    "fig.append( glucifer.objects.Surface( mesh, pressureField ) )\n",
    "fig.show()"
   ]
  },
  {
   "cell_type": "code",
   "execution_count": 8,
   "metadata": {},
   "outputs": [],
   "source": [
    "ids = mesh.specialSets[\"MaxI_VertexSet\"]\n",
    "coords = mesh.data[ids.data] # xcoords\n",
    "V = velocityField.evaluate(ids)\n",
    "gradV = velocityField.fn_gradient.evaluate(ids)\n",
    "\n",
    "u = V[:,0] ; v = V[:,1]\n",
    "du_dx = gradV[:,0] ; du_dy = gradV[:,1]\n",
    "dv_dx = gradV[:,2] ; dv_dy = gradV[:,3]\n",
    "\n",
    "strainRate = fn.tensor.symmetric( velocityField.fn_gradient )\n",
    "devstress = 2.0 * viscosity * strainRate"
   ]
  },
  {
   "cell_type": "code",
   "execution_count": 9,
   "metadata": {},
   "outputs": [],
   "source": [
    "def exact_vx(y):\n",
    "    ana_u = 1.0 / (2.0 * viscosity)* dp_dx * (y**2 - h*y)\n",
    "    return ana_u\n",
    "\n",
    "def exact_shearSR(y):\n",
    "    shearSR = dp_dx / (2.0*viscosity) * (y - h/2 )\n",
    "    return shearSR"
   ]
  },
  {
   "cell_type": "code",
   "execution_count": 10,
   "metadata": {},
   "outputs": [
    {
     "data": {
      "image/png": "[encoded data removed]",
      "text/plain": [
       "<matplotlib.figure.Figure at 0x7fe856a047d0>"
      ]
     },
     "metadata": {},
     "output_type": "display_data"
    }
   ],
   "source": [
    "if make_graphs:\n",
    "    uw.matplotlib_inline()\n",
    "    import matplotlib.pyplot as pyplot\n",
    "    import matplotlib.pylab as pylab\n",
    "    pyplot.ion() # needed to ensure pure python jobs do now hang on show()\n",
    "\n",
    "    pylab.rcParams[ 'figure.figsize'] = 12, 6\n",
    "    pyplot.plot(coords[:,1], u, 'o', color = 'green', label='vx')\n",
    "    pyplot.plot(coords[:,1], v, 'o', color = 'red', label='vy')\n",
    "    big = np.linspace(0.0,h)\n",
    "    pyplot.plot(big, exact_vx(big), 'D', color = 'purple', label='exact_vx', markersize=2)\n",
    "    pyplot.legend()\n",
    "    pyplot.xlabel('y coords at x=xmax')\n",
    "    pyplot.ylabel('velocity')\n",
    "    pyplot.show()"
   ]
  },
  {
   "cell_type": "code",
   "execution_count": 11,
   "metadata": {},
   "outputs": [
    {
     "name": "stdout",
     "output_type": "stream",
     "text": [
      "Relative error against analytic solution: 1.40525963472e-05\n"
     ]
    }
   ],
   "source": [
    "ana_u = exact_vx(coords[:,1])\n",
    "\n",
    "abserr = uw.utils._nps_2norm(ana_u - u)\n",
    "mag = uw.utils._nps_2norm(ana_u)\n",
    "relerr = abserr / mag\n",
    "\n",
    "from mpi4py import MPI\n",
    "comm = MPI.COMM_WORLD\n",
    "\n",
    "\n",
    "if uw.rank() == 0:\n",
    "    threshold = 1.0e-4\n",
    "    print \"Relative error against analytic solution:\", relerr\n",
    "    if relerr > threshold:\n",
    "        raise RuntimeError(\"The numerical solution is outside the error threshold of the analytic solution.\" \\\n",
    "                           \"The Relative error was \", relerr,\" the threshold is \", threshold)"
   ]
  },
  {
   "cell_type": "code",
   "execution_count": 12,
   "metadata": {},
   "outputs": [],
   "source": [
    "# Further analytics\n",
    "# pyplot.plot(coords[:,1], du_dy, 'o', color = 'purple', label='du_dy')\n",
    "# pyplot.plot(coords[:,1], du_dx, '+', color = 'black', label='du_dx')\n",
    "# pyplot.plot(coords[:,1], dv_dy, 'x', color = 'orange', label='dv_dy')\n",
    "# pyplot.plot(coords[:,1], dv_dx, '.', color = 'red', label='dv_dx')\n",
    "# pyplot.legend()\n",
    "# pyplot.xlabel('y coords at x=xmax')\n",
    "# pyplot.ylabel('velocity gradients')\n",
    "# pyplot.show()"
   ]
  },
  {
   "cell_type": "code",
   "execution_count": 13,
   "metadata": {},
   "outputs": [],
   "source": [
    "# Further analytics\n",
    "# pyplot.plot(coords[:,1], sr, '-', label='exact_shearSR')\n",
    "# pyplot.plot(coords[:,1], strainRate.evaluate(ids)[:,2], 'o', color = 'purple', label='sr_shear')\n",
    "# pyplot.plot(coords[:,1], devstress.evaluate(ids)[:,2], '+', label='tau_shear')\n",
    "# pyplot.legend()\n",
    "# pyplot.xlabel('y coords at x=xmax')\n",
    "# pyplot.ylabel('strain rate')\n",
    "# pyplot.show()"
   ]
  }
 ],
 "metadata": {
  "kernelspec": {
   "display_name": "Python 2",
   "language": "python",
   "name": "python2"
  },
  "language_info": {
   "codemirror_mode": {
    "name": "ipython",
    "version": 2
   },
   "file_extension": ".py",
   "mimetype": "text/x-python",
   "name": "python",
   "nbconvert_exporter": "python",
   "pygments_lexer": "ipython2",
   "version": "2.7.14"
  }
 },
 "nbformat": 4,
 "nbformat_minor": 1
}

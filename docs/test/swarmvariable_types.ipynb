{
 "cells": [
  {
   "cell_type": "code",
   "execution_count": 1,
   "metadata": {
    "collapsed": true
   },
   "outputs": [],
   "source": [
    "import underworld as uw\n",
    "import numpy as np"
   ]
  },
  {
   "cell_type": "code",
   "execution_count": 2,
   "metadata": {
    "collapsed": true
   },
   "outputs": [],
   "source": [
    "mesh = uw.mesh.FeMesh_Cartesian()"
   ]
  },
  {
   "cell_type": "code",
   "execution_count": 3,
   "metadata": {},
   "outputs": [],
   "source": [
    "swarm = uw.swarm.Swarm(mesh)\n",
    "def addvars(swarm_inst):\n",
    "    return (\n",
    "            ( swarm_inst.add_variable('char'  ,1), np.iinfo(np.int8).max    , 'char'   ),\n",
    "            ( swarm_inst.add_variable('short' ,1), np.iinfo(np.int16).max   , 'short'  ),\n",
    "            ( swarm_inst.add_variable('int'   ,1), np.iinfo(np.int32).max   , 'int'    ),\n",
    "            ( swarm_inst.add_variable('long'  ,1), np.iinfo(np.int64).max   , 'long'   ),\n",
    "            ( swarm_inst.add_variable('float' ,1), np.finfo(np.float32).max , 'float'  ),\n",
    "            ( swarm_inst.add_variable('double',1), np.finfo(np.float64).max , 'double' ) )\n",
    "vars = addvars(swarm)"
   ]
  },
  {
   "cell_type": "code",
   "execution_count": 4,
   "metadata": {
    "collapsed": true
   },
   "outputs": [],
   "source": [
    "swarm.populate_using_layout(uw.swarm.layouts.PerCellSpaceFillerLayout(swarm,20))"
   ]
  },
  {
   "cell_type": "code",
   "execution_count": 5,
   "metadata": {},
   "outputs": [],
   "source": [
    "swarm.save(\"test_swarm.h5\")\n",
    "for var in vars:\n",
    "    var[0].data[:] = var[1]\n",
    "    var[0].save(\"test_swarvar_\" + var[2] + \".h5\")"
   ]
  },
  {
   "cell_type": "code",
   "execution_count": 6,
   "metadata": {
    "collapsed": true
   },
   "outputs": [],
   "source": [
    "swarm2 = uw.swarm.Swarm(mesh)\n",
    "vars2 = addvars(swarm2)"
   ]
  },
  {
   "cell_type": "code",
   "execution_count": 7,
   "metadata": {},
   "outputs": [],
   "source": [
    "swarm2.load(\"test_swarm.h5\")\n",
    "for var in vars2:\n",
    "    var[0].load(\"test_swarvar_\" + var[2] + \".h5\")\n",
    "    if not np.allclose(var[0].data, var[1] ):\n",
    "        raise RuntimeError(\"Something went wrong with swarm variable object.\")"
   ]
  },
  {
   "cell_type": "code",
   "execution_count": 8,
   "metadata": {
    "collapsed": true
   },
   "outputs": [],
   "source": [
    "if uw.rank() == 0: \n",
    "    import os\n",
    "    os.remove( \"test_swarm.h5\" )\n",
    "    for var in vars:\n",
    "        os.remove( \"test_swarvar_\" + var[2] + \".h5\" ) "
   ]
  }
 ],
 "metadata": {
  "kernelspec": {
   "display_name": "Python 2",
   "language": "python",
   "name": "python2"
  },
  "language_info": {
   "codemirror_mode": {
    "name": "ipython",
    "version": 2
   },
   "file_extension": ".py",
   "mimetype": "text/x-python",
   "name": "python",
   "nbconvert_exporter": "python",
   "pygments_lexer": "ipython2",
   "version": "2.7.10"
  }
 },
 "nbformat": 4,
 "nbformat_minor": 2
}

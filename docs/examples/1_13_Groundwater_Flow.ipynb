{
 "cells": [
  {
   "cell_type": "markdown",
   "metadata": {},
   "source": [
    "# 1D Darcy Flow (Groundwater) Solution and Benchmark"
   ]
  },
  {
   "cell_type": "code",
   "execution_count": 1,
   "metadata": {},
   "outputs": [],
   "source": [
    "import underworld as uw\n",
    "import glucifer\n",
    "import numpy\n",
    "import matplotlib.pyplot as plt\n",
    "\n",
    "uw.matplotlib_inline()"
   ]
  },
  {
   "cell_type": "markdown",
   "metadata": {},
   "source": [
    "This notebook demonstrates the use of the ``uw.systems.SteadyStateDarcyFlow`` class, which solves for darcy flow (e.g. groundwater flow):\n",
    "\n",
    "$\\nabla q = 0$\n",
    "\n",
    "$q = \\kappa \\left( -\\nabla p + S \\right)$ \n",
    "\n",
    "where $q$ is the flow velocity, $p$ is the fluid pressure head, $\\kappa$ hydraulic diffusivity and $S$ is a hydraulic gradient source. $S$ is usually a gravitational term, for example $S = \\rho g$, where $\\rho$ is fluid density and $g$ is the  gravitational accelleration vector.\n",
    "\n",
    "We will set up a simple example of flow through two  of strongly contrasting $\\kappa$ and compare the soultion to a 1D benchmark."
   ]
  },
  {
   "cell_type": "markdown",
   "metadata": {},
   "source": [
    "*Set up mesh and fields*\n",
    "\n",
    "**Note:** The velocity solution is extremely sensitive to the pressure gradient. A higher order shape function (Q2) may result in a more accurate solution of the pressure field, in the case of material variation within a cell, but the velocity would then be linearly variable within that cell. It is therefore best to use a linear shape function (Q1) and asign just one material per cell."
   ]
  },
  {
   "cell_type": "code",
   "execution_count": 2,
   "metadata": {},
   "outputs": [],
   "source": [
    "elementType = \"Q1\"\n",
    "resX = 16\n",
    "resY = 16\n",
    "mesh = uw.mesh.FeMesh_Cartesian( elementType = (elementType), \n",
    "                                 elementRes  = (resX, resY), \n",
    "                                 minCoord    = (-1., -1.), \n",
    "                                 maxCoord    = (0., 0.)) \n",
    "\n",
    "gwPressureField    = mesh.add_variable( nodeDofCount=1 )\n",
    "hydraulicDiffusivityField    = mesh.add_variable( nodeDofCount=1 )\n",
    "velocityField = mesh.add_variable(nodeDofCount=2)"
   ]
  },
  {
   "cell_type": "markdown",
   "metadata": {},
   "source": [
    "*Set up the types of boundary conditions*\n",
    "\n",
    "**Note:** The darcy-flow solver does also work for a lower free-slip boundary condition, but only if a strong horizontal flow component exists, such as arises when there is topographic variation. "
   ]
  },
  {
   "cell_type": "code",
   "execution_count": 3,
   "metadata": {},
   "outputs": [],
   "source": [
    "iWalls     = mesh.specialSets[\"MinI_VertexSet\"] + mesh.specialSets[\"MaxI_VertexSet\"]\n",
    "jWalls     = mesh.specialSets[\"MinJ_VertexSet\"] + mesh.specialSets[\"MaxJ_VertexSet\"]\n",
    "topWall    = mesh.specialSets[\"MaxJ_VertexSet\"]\n",
    "bottomWall = mesh.specialSets[\"MinJ_VertexSet\"]\n",
    "\n",
    "gwPressureBC = uw.conditions.DirichletCondition( variable        = gwPressureField, \n",
    "                                               indexSetsPerDof = ( topWall+ bottomWall    ) )"
   ]
  },
  {
   "cell_type": "markdown",
   "metadata": {},
   "source": [
    "*Choose the pressure set at the lower wall and set an initially linear pressure field which is consistent with the BCs*"
   ]
  },
  {
   "cell_type": "code",
   "execution_count": 4,
   "metadata": {},
   "outputs": [],
   "source": [
    "#Groundwater pressure boundary condition on the bottom wall\n",
    "#    this value is relative to gravity\n",
    "maxgwpressure = 0.5\n",
    "\n",
    "yCoordFn  = uw.function.input()[1]\n",
    "initialFn = -1. * yCoordFn * maxgwpressure\n",
    "\n",
    "gwPressureField.data[:] = initialFn.evaluate(mesh)"
   ]
  },
  {
   "cell_type": "markdown",
   "metadata": {},
   "source": [
    "*Set up swarm*\n",
    "\n",
    "**Imporant Note:** The swarm is used for setting the $\\kappa$ for a cell. As a result of our choice of a linear shape-function (Q1), there is a single constant pressure gradient solved for each cell. If we were to use particles with strongly contrasting $\\kappa$ in one cell, the actual solution should involve a strong variation in pressure gradient which cannot be reproduced by the constant pressure gradient solved. It is therefore recommended that only one particle is used per cell. For the same reason, velocity should be calculated inside the cell, rather than on the mesh. Our swarm is used both for setting $\\kappa$ and calculating the velocity.\n"
   ]
  },
  {
   "cell_type": "code",
   "execution_count": 5,
   "metadata": {},
   "outputs": [],
   "source": [
    "swarm         = uw.swarm.Swarm( mesh=mesh )\n",
    "swarmLayout = uw.swarm.layouts.PerCellGaussLayout(swarm=swarm,gaussPointCount=1)\n",
    "swarm.populate_using_layout(swarmLayout)"
   ]
  },
  {
   "cell_type": "markdown",
   "metadata": {},
   "source": [
    "Set up swarm variables: material ID and velocity. The velocity variable is where the velocity solution can be stored."
   ]
  },
  {
   "cell_type": "code",
   "execution_count": 6,
   "metadata": {},
   "outputs": [],
   "source": [
    "materialIndex     = swarm.add_variable( dataType=\"int\",    count=1 )\n",
    "materialVelocity  = swarm.add_variable( dataType=\"double\",    count=2 )\n",
    "\n",
    "materialPorous        = 0\n",
    "materialImpermeable   = 1"
   ]
  },
  {
   "cell_type": "markdown",
   "metadata": {},
   "source": [
    "Set up a horizontal interface between the two materials"
   ]
  },
  {
   "cell_type": "code",
   "execution_count": 7,
   "metadata": {},
   "outputs": [],
   "source": [
    "xCoordFn = uw.function.input()[0]\n",
    "yCoordFn = uw.function.input()[1]\n",
    "\n",
    "interfaceY = -0.25\n",
    "\n",
    "conditions = [ (yCoordFn > interfaceY, materialPorous),\n",
    "               ( True , materialImpermeable )]\n",
    "\n",
    "materialfn = uw.function.branching.conditional( conditions )\n",
    "materialIndex.data[:]  = materialfn.evaluate(swarm)"
   ]
  },
  {
   "cell_type": "markdown",
   "metadata": {},
   "source": [
    "Assign a different $\\kappa$ to each material. The upper layer in this case is much more permeable than the lower."
   ]
  },
  {
   "cell_type": "code",
   "execution_count": 8,
   "metadata": {},
   "outputs": [],
   "source": [
    "Ka = 1.\n",
    "Kb = 1e-3\n",
    "\n",
    "hydraulicDiffusivityMap = { materialPorous : Ka, \n",
    "                 materialImpermeable : Kb}\n",
    "hydraulicDiffusivityMapFn = uw.function.branching.map( fn_key = materialIndex, mapping = hydraulicDiffusivityMap )"
   ]
  },
  {
   "cell_type": "markdown",
   "metadata": {},
   "source": [
    "Let's check that the $\\kappa$ asigned to each particle looks correct:"
   ]
  },
  {
   "cell_type": "code",
   "execution_count": 9,
   "metadata": {
    "scrolled": false
   },
   "outputs": [
    {
     "data": {
      "text/html": [
       "<img src='data:image/png;base64,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'>"
      ],
      "text/plain": [
       "<IPython.core.display.HTML object>"
      ]
     },
     "metadata": {},
     "output_type": "display_data"
    }
   ],
   "source": [
    "figMaterial = glucifer.Figure( figsize=(800,400), title=\"Hydraulic Diffusivity\" )\n",
    "figMaterial.append( glucifer.objects.Points(swarm, hydraulicDiffusivityMapFn, pointSize=5.0) )\n",
    "\n",
    "figMaterial.append( glucifer.objects.Mesh(mesh))\n",
    "figMaterial.show()"
   ]
  },
  {
   "cell_type": "markdown",
   "metadata": {},
   "source": [
    "*Setup the dary flow (groundwater) equation*"
   ]
  },
  {
   "cell_type": "code",
   "execution_count": 10,
   "metadata": {},
   "outputs": [],
   "source": [
    "g = uw.function.misc.constant((0.,-1.))\n",
    "\n",
    "\n",
    "gwadvDiff = uw.systems.SteadyStateDarcyFlow(velocityField=velocityField,\n",
    "        pressureField = gwPressureField, fn_diffusivity = hydraulicDiffusivityMapFn,\n",
    "        conditions=[gwPressureBC],fn_bodyforce=g, \n",
    "        voronoi_swarm=swarm,swarmVarVelocity=materialVelocity)\n",
    "gwsolver = uw.systems.Solver(gwadvDiff)"
   ]
  },
  {
   "cell_type": "code",
   "execution_count": 11,
   "metadata": {},
   "outputs": [],
   "source": [
    "gwsolver.solve()"
   ]
  },
  {
   "cell_type": "markdown",
   "metadata": {},
   "source": [
    "*Visualise the groundwater solution, by plotting it for $x=-1$ (left wall).*\n",
    "\n",
    "This model is simple enough that there is an equivalent 1D analytic, which we can use as a benchmark. Out of interest, let's also plot what the solution would look like without the gravity term.\n",
    "\n",
    "The grey lines are the horizontal element edges. Note that an resolution has been chosen so that the interface boundary is accurately resolved."
   ]
  },
  {
   "cell_type": "code",
   "execution_count": 12,
   "metadata": {
    "scrolled": true
   },
   "outputs": [
    {
     "data": {
      "image/png": "[encoded data removed]",
      "text/plain": [
       "<matplotlib.figure.Figure at 0x7f7989f443d0>"
      ]
     },
     "metadata": {},
     "output_type": "display_data"
    }
   ],
   "source": [
    "if uw.rank() == 0:\n",
    "    arrX = numpy.linspace(-1,0,2)\n",
    "    plt.ylim(-1,0.)\n",
    "    plt.xlim(-1e-2,1)\n",
    "\n",
    "arrY = numpy.linspace(-1,0.,100)\n",
    "x = -1.\n",
    "arrP = gwPressureField.evaluate_global(numpy.array(zip(numpy.ones(100)*x,arrY)))\n",
    "\n",
    "if uw.rank() == 0:\n",
    "    plt.plot(arrP,arrY,c='red',label='Numerical')\n",
    "\n",
    "\n",
    "    for S in [1.,0.]:\n",
    "        La = -1. * interfaceY\n",
    "        Lb = 1. + interfaceY\n",
    "        dP = maxgwpressure\n",
    "        Pa = (dP/Lb - S + Ka/Kb * S) / (1./Lb + Ka/Kb/La)\n",
    "        arrYl = numpy.linspace(-La,0.,3)\n",
    "        if S == 0.:\n",
    "            label = \"Analytical\\n(No gravity)\"\n",
    "            line = \"-.\"\n",
    "        else:\n",
    "            label = 'Analytical'\n",
    "            line = \"--\"\n",
    "        plt.plot(Pa*(-arrYl)/(La),arrYl,line,c=\"black\",label = label)\n",
    "        arrYl = numpy.linspace(-La,-1,3)\n",
    "        plt.plot(Pa + (dP-Pa)*(-arrYl-La)/Lb,arrYl,line,c=\"black\")\n",
    "    \n",
    "if uw.rank() == 0:\n",
    "    plt.xlabel('Pressure')\n",
    "    plt.ylabel('Depth')\n",
    "    plt.legend()\n",
    "    \n",
    "    for meshY in numpy.linspace(-1,0,resY+1):\n",
    "        plt.plot(numpy.linspace(0,1,2),numpy.ones(2)*meshY,c=\"black\",alpha=0.3)\n",
    "\n",
    "    \n",
    "    plt.savefig('PressureSolution.pdf')"
   ]
  },
  {
   "cell_type": "markdown",
   "metadata": {},
   "source": [
    "The velocity solution was found on the swarm, so let's visualise the swarm variable where it is kept. The vertical component of the velocity vector field is visualised. Note the colourbar - the solution is relatively constant, as it should be for flow conservation."
   ]
  },
  {
   "cell_type": "code",
   "execution_count": 13,
   "metadata": {
    "scrolled": false
   },
   "outputs": [
    {
     "data": {
      "text/html": [
       "<img src='data:image/png;base64,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'>"
      ],
      "text/plain": [
       "<IPython.core.display.HTML object>"
      ]
     },
     "metadata": {},
     "output_type": "display_data"
    }
   ],
   "source": [
    "figMaterial = glucifer.Figure( figsize=(800,400), title=\"Velocity Calculated on Swarm\" )\n",
    "figMaterial.append( glucifer.objects.Points(swarm, materialVelocity[1], pointSize=5.0) )\n",
    "figMaterial.append( glucifer.objects.Mesh(mesh))\n",
    "figMaterial.show()"
   ]
  },
  {
   "cell_type": "markdown",
   "metadata": {},
   "source": [
    "Plot the same velocity field as vectors, over the pressure field solution."
   ]
  },
  {
   "cell_type": "code",
   "execution_count": 14,
   "metadata": {},
   "outputs": [
    {
     "data": {
      "text/html": [
       "<img src='data:image/png;base64,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'>"
      ],
      "text/plain": [
       "<IPython.core.display.HTML object>"
      ]
     },
     "metadata": {},
     "output_type": "display_data"
    }
   ],
   "source": [
    "figMaterial = glucifer.Figure( figsize=(800,400),title=\"Ground-Water Pressure Field and Velocity Vectors\" )\n",
    "figMaterial.append(glucifer.objects.Surface(mesh,gwPressureField,onMesh=True))\n",
    "scale = 0.03\n",
    "figMaterial.append(glucifer.objects.VectorArrows(mesh,velocityField,scaling=50,arrowHead=0.3))\n",
    "figMaterial.show()"
   ]
  },
  {
   "cell_type": "markdown",
   "metadata": {},
   "source": [
    "We can also compare the velocity calculated on the swarm to an analytical solution."
   ]
  },
  {
   "cell_type": "code",
   "execution_count": 15,
   "metadata": {},
   "outputs": [
    {
     "data": {
      "image/png": "[encoded data removed]",
      "text/plain": [
       "<matplotlib.figure.Figure at 0x7f7989eea8d0>"
      ]
     },
     "metadata": {},
     "output_type": "display_data"
    }
   ],
   "source": [
    "x = -1.\n",
    "n = 30\n",
    "arrYsample = numpy.linspace(-1+(1./resY),0.,resY)\n",
    "arrY = numpy.linspace(-1,0.,n)\n",
    "\n",
    "arrP = numpy.array(velocityField[1].evaluate_global(numpy.array(zip(numpy.ones(len(arrYsample))*x,arrYsample))))\n",
    "\n",
    "if uw.rank() == 0:\n",
    "    plt.clf()\n",
    "    plt.scatter(arrP,arrYsample,lw=0,alpha=0.5,label=\"Numerical\")\n",
    "\n",
    "    S = 1.\n",
    "    La = -1. * interfaceY\n",
    "    Lb = 1. + interfaceY\n",
    "    dP = maxgwpressure\n",
    "    midPressure = (dP/Lb - S + Ka/Kb * S) / (1./Lb + Ka/Kb/La)\n",
    "\n",
    "    arrVel = numpy.zeros(len(arrY))\n",
    "\n",
    "    for i in range(len(arrY)):\n",
    "        if arrY[i] > interfaceY:\n",
    "            arrVel[i] = (-midPressure / -La - 1.) * Ka\n",
    "        else:\n",
    "            arrVel[i] = (-(dP - midPressure)/-Lb - 1.) * Kb\n",
    "\n",
    "    plt.plot( (arrVel) ,arrY,c=\"black\",label=\"Analytical\")\n",
    "\n",
    "    plt.ylim(-1,0.)\n",
    "    avAnVel = numpy.average(arrVel)\n",
    "    plt.xlim(-0.25*avAnVel + avAnVel,0.25*avAnVel+avAnVel)\n",
    "    plt.ticklabel_format(style='sci', axis='x', scilimits=(0,0))\n",
    "    plt.legend()\n",
    "    plt.xlabel('Vertical Velocity')\n",
    "    plt.ylabel('Depth')\n",
    "\n",
    "    plt.savefig(\"VelocitySolution.pdf\")"
   ]
  }
 ],
 "metadata": {
  "kernelspec": {
   "display_name": "Python 2",
   "language": "python",
   "name": "python2"
  },
  "language_info": {
   "codemirror_mode": {
    "name": "ipython",
    "version": 2
   },
   "file_extension": ".py",
   "mimetype": "text/x-python",
   "name": "python",
   "nbconvert_exporter": "python",
   "pygments_lexer": "ipython2",
   "version": "2.7.14"
  }
 },
 "nbformat": 4,
 "nbformat_minor": 1
}
